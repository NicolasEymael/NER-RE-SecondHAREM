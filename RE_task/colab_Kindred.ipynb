{
  "nbformat": 4,
  "nbformat_minor": 0,
  "metadata": {
    "colab": {
      "name": "Kindred_Experiments.ipynb",
      "provenance": [],
      "collapsed_sections": []
    },
    "kernelspec": {
      "display_name": "Python 3",
      "name": "python3"
    }
  },
  "cells": [
    {
      "cell_type": "markdown",
      "metadata": {
        "id": "WLqgNzb9uXuR"
      },
      "source": [
        "Setup the environment with Kindred:"
      ]
    },
    {
      "cell_type": "code",
      "metadata": {
        "id": "bSoCXql9r8an"
      },
      "source": [
        "!pip install kindred\n",
        "!python -m spacy download pt_core_news_md"
      ],
      "execution_count": null,
      "outputs": []
    },
    {
      "cell_type": "markdown",
      "metadata": {
        "id": "-UXOcKLczOAH"
      },
      "source": [
        "Load input file from my Drive:"
      ]
    },
    {
      "cell_type": "code",
      "metadata": {
        "id": "ol6hfxPgzWdD"
      },
      "source": [
        "from google.colab import drive\n",
        "drive.mount('/content/drive')\n",
        "\n",
        "# Here you need to configure the path where you saved the files in your Drive\n",
        "%cd /content/drive/MyDrive/TCC/"
      ],
      "execution_count": null,
      "outputs": []
    },
    {
      "cell_type": "markdown",
      "metadata": {
        "id": "5ZNU8KjigNxn"
      },
      "source": [
        "Configure the parameters for the run:"
      ]
    },
    {
      "cell_type": "code",
      "metadata": {
        "id": "r0VgevG-gOa0"
      },
      "source": [
        "import kindred\n",
        "import time\n",
        "import sys\n",
        "\n",
        "# use the same configuration used in the Jupyter notebook\n",
        "\n",
        "# which Run? 1, 2 or 3\n",
        "#chosen_run = 1 # one JSON per sentence\n",
        "chosen_run = 2 # one JSON per document\n",
        "#chosen_run = 3 # one JSON per relation\n",
        "\n",
        "if (chosen_run == 1):\n",
        "  src_folder = \"run1\"\n",
        "  dst_folder = \"run1_results\"\n",
        "  n_folds = 10\n",
        "elif (chosen_run == 2):\n",
        "  src_folder = \"run2\"\n",
        "  dst_folder = \"run2_results\"\n",
        "  n_folds = 8\n",
        "elif (chosen_run == 3):\n",
        "  src_folder = \"run3\"\n",
        "  dst_folder = \"run3_results\"\n",
        "  n_folds = 10"
      ],
      "execution_count": null,
      "outputs": []
    },
    {
      "cell_type": "markdown",
      "metadata": {
        "id": "EyH-OABMCXTy"
      },
      "source": [
        "Run the task with cross-validation:"
      ]
    },
    {
      "cell_type": "code",
      "metadata": {
        "id": "8dM-4VHMCY0O"
      },
      "source": [
        "default_stdout = sys.stdout\n",
        "\n",
        "mainCorpus = kindred.load(\"pubannotation\", src_folder)\n",
        "\n",
        "i = 0\n",
        "\n",
        "for trainCorpus, goldCorpus in mainCorpus.nfold_split(n_folds):\n",
        "\n",
        "  sys.stdout = open(dst_folder + \"results_fold_{}.txt\".format(i), \"w+\")\n",
        "\n",
        "  start_time = time.time()\n",
        "\n",
        "  classifier = kindred.RelationClassifier(model=\"pt_core_news_md\")\n",
        "\n",
        "  classifier.train(trainCorpus)\n",
        "\n",
        "  testCorpus = goldCorpus.clone()\n",
        "\n",
        "  testCorpus.removeRelations()\n",
        "\n",
        "  classifier.predict(testCorpus)\n",
        "\n",
        "  kindred.evaluate(goldCorpus, testCorpus, metric='all', display=True)\n",
        "\n",
        "  end_time = time.time()\n",
        "\n",
        "  print(\"--- {} seconds ---\".format(end_time - start_time))\n",
        "\n",
        "  i += 1\n",
        "\n",
        "  sys.stdout.close()\n",
        "\n",
        "sys.stdout = default_stdout"
      ],
      "execution_count": null,
      "outputs": []
    }
  ]
}