{
 "cells": [
  {
   "cell_type": "markdown",
   "metadata": {},
   "source": [
    "## RELATION EXTRACTION WITH KINDRED\n",
    "Run 3 ended up exceeding the memory in Google Colab, so I had to run it locally."
   ]
  },
  {
   "cell_type": "code",
   "execution_count": null,
   "metadata": {},
   "outputs": [],
   "source": [
    "!pip install kindred\n",
    "!python -m spacy download pt_core_news_md"
   ]
  },
  {
   "cell_type": "code",
   "execution_count": null,
   "metadata": {},
   "outputs": [],
   "source": [
    "import kindred\n",
    "import time\n",
    "import sys\n",
    "\n",
    "default_stdout = sys.stdout\n",
    "\n",
    "n_folds = 10\n",
    "\n",
    "# the load method was causing some problems in Jupyter notebooks related to codification\n",
    "# this wasn't a problem in the Colab environment\n",
    "# I opened the internal code from the Kindred library and changed the part \"open (filename)\" by \"open (filename, utf-8)\"\n",
    "mainCorpus = kindred.load(\"pubannotation\", \"run3\")\n",
    "\n",
    "i = 0\n",
    "\n",
    "for trainCorpus, goldCorpus in mainCorpus.nfold_split(n_folds):\n",
    "\n",
    "    sys.stdout = open(\"results_fold_{}.txt\".format(i), \"w+\")\n",
    "\n",
    "    start_time = time.time()\n",
    "\n",
    "    classifier = kindred.RelationClassifier(model=\"pt_core_news_md\")\n",
    "\n",
    "    classifier.train(trainCorpus)\n",
    "\n",
    "    testCorpus = goldCorpus.clone()\n",
    "\n",
    "    testCorpus.removeRelations()\n",
    "\n",
    "    classifier.predict(testCorpus)\n",
    "\n",
    "    kindred.evaluate(goldCorpus, testCorpus, metric='all', display=True)\n",
    "\n",
    "    end_time = time.time()\n",
    "\n",
    "    print(\"--- {} seconds ---\".format(end_time - start_time))\n",
    "\n",
    "    i += 1\n",
    "\n",
    "    sys.stdout.close()\n",
    "\n",
    "sys.stdout = default_stdout"
   ]
  }
 ],
 "metadata": {
  "kernelspec": {
   "display_name": "Python 3",
   "language": "python",
   "name": "python3"
  },
  "language_info": {
   "codemirror_mode": {
    "name": "ipython",
    "version": 3
   },
   "file_extension": ".py",
   "mimetype": "text/x-python",
   "name": "python",
   "nbconvert_exporter": "python",
   "pygments_lexer": "ipython3",
   "version": "3.8.8"
  }
 },
 "nbformat": 4,
 "nbformat_minor": 2
}
