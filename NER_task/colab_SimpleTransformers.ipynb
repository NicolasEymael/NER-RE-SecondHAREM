{
 "cells": [
  {
   "cell_type": "markdown",
   "metadata": {
    "id": "WLqgNzb9uXuR"
   },
   "source": [
    "Setup the environment with SimpleTransformers:"
   ]
  },
  {
   "cell_type": "code",
   "execution_count": null,
   "metadata": {
    "id": "bSoCXql9r8an"
   },
   "outputs": [],
   "source": [
    "!pip install tokenizers==0.9.4\n",
    "!pip install simpletransformers --upgrade simpletransformers"
   ]
  },
  {
   "cell_type": "markdown",
   "metadata": {
    "id": "-UXOcKLczOAH"
   },
   "source": [
    "Load input file from my Drive:"
   ]
  },
  {
   "cell_type": "code",
   "execution_count": null,
   "metadata": {
    "id": "ol6hfxPgzWdD"
   },
   "outputs": [],
   "source": [
    "from google.colab import drive\n",
    "\n",
    "drive.mount('/content/drive')\n",
    "\n",
    "# Here you need to configure the path where you saved the files in your Drive\n",
    "%cd /content/drive/MyDrive/TCC"
   ]
  },
  {
   "cell_type": "markdown",
   "metadata": {
    "id": "WWjvRJ5eurn2"
   },
   "source": [
    "Configure the parameters for the run:"
   ]
  },
  {
   "cell_type": "code",
   "execution_count": null,
   "metadata": {
    "id": "wZcRAw9BM5py"
   },
   "outputs": [],
   "source": [
    "from simpletransformers.ner import NERModel, NERArgs\n",
    "import time\n",
    "\n",
    "# use the same configuration used in the Jupyter notebook\n",
    "\n",
    "# number of folds\n",
    "n_folds = 10\n",
    "\n",
    "# run entity identification task or entity classification task\n",
    "just_identify = False\n",
    "\n",
    "if (just_identify):\n",
    "  dst_folder = \"folds_CoNLL_identification/\"\n",
    "\n",
    "  labels = [\n",
    "    \"B\",\n",
    "    \"I\",\n",
    "    \"O\"\n",
    "  ]\n",
    "else:\n",
    "  dst_folder = \"folds_CoNLL_classification/\"\n",
    "\n",
    "  labels = [\n",
    "    \"B-individuo\",\n",
    "    \"I-individuo\",\n",
    "    \"B-local\",\n",
    "    \"I-local\",\n",
    "    \"B-organizacao\",\n",
    "    \"I-organizacao\",\n",
    "    \"B-obra\",\n",
    "    \"I-obra\",\n",
    "    \"B-acontecimento\",\n",
    "    \"I-acontecimento\",\n",
    "    \"B-tempo\",\n",
    "    \"I-tempo\",\n",
    "    \"B-valor\",\n",
    "    \"I-valor\",\n",
    "    \"B-abstraccao\",\n",
    "    \"I-abstraccao\",\n",
    "    \"B-outro\",\n",
    "    \"I-outro\",\n",
    "    \"O\"\n",
    "    ]\n",
    "\n",
    "model_args = NERArgs()\n",
    "\n",
    "model_args.overwrite_output_dir = True\n",
    "\n",
    "model_args.max_seq_length = 512\n",
    "\n",
    "model_args.labels_list = labels"
   ]
  },
  {
   "cell_type": "markdown",
   "metadata": {
    "id": "15j5qG-eNgmF"
   },
   "source": [
    "Run the task with cross-validation:"
   ]
  },
  {
   "cell_type": "code",
   "execution_count": null,
   "metadata": {
    "id": "9s0DTXk8quC7"
   },
   "outputs": [],
   "source": [
    "for i in range(n_folds):\n",
    "  start_time = time.time()\n",
    "\n",
    "  print(\"------------------------------------- FOLD {} --------------------------------------\".format(i))\n",
    "\n",
    "  train_path = dst_folder + \"CoNLL_train_fold_{}_v2.txt\".format(i)\n",
    "  test_path = dst_folder + \"CoNLL_test_fold_{}_notype_v2.txt\".format(i)\n",
    "  \n",
    "    # CUDA is enabled by default (and I recommend using it)\n",
    "    # You must configure the Colab environment to use a GPU\n",
    "    # or put \"use_cuda=False\" like this \"...args=model_args, use_cuda=False)...\"\n",
    "  model = NERModel('bert', 'neuralmind/bert-base-portuguese-cased', args=model_args)\n",
    "\n",
    "  model.train_model(train_path)\n",
    "\n",
    "  result, model_outputs, predictions = model.eval_model(test_path)\n",
    "\n",
    "  end_time = time.time()\n",
    "\n",
    "  print(\"--- %s seconds ---\" % (end_time - start_time))\n",
    "\n",
    "  with open(dst_folder + \"prediction_fold_{}.txt\".format(i), \"w+\", encoding=\"utf-8\") as fileWriter:\n",
    "    print(predictions, file=fileWriter)\n",
    "\n",
    "  print(\"\\n\")"
   ]
  }
 ],
 "metadata": {
  "accelerator": "GPU",
  "colab": {
   "collapsed_sections": [],
   "name": "SimpleTransformers_Experiments.ipynb",
   "provenance": []
  },
  "kernelspec": {
   "display_name": "Python 3",
   "language": "python",
   "name": "python3"
  },
  "language_info": {
   "codemirror_mode": {
    "name": "ipython",
    "version": 3
   },
   "file_extension": ".py",
   "mimetype": "text/x-python",
   "name": "python",
   "nbconvert_exporter": "python",
   "pygments_lexer": "ipython3",
   "version": "3.8.8"
  }
 },
 "nbformat": 4,
 "nbformat_minor": 1
}
